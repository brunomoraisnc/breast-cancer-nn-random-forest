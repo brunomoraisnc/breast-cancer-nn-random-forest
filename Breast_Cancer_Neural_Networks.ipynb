{
  "nbformat": 4,
  "nbformat_minor": 0,
  "metadata": {
    "colab": {
      "name": "Breast Cancer Neural Networks.ipynb",
      "version": "0.3.2",
      "provenance": [],
      "collapsed_sections": [],
      "include_colab_link": true
    },
    "kernelspec": {
      "name": "python3",
      "display_name": "Python 3"
    }
  },
  "cells": [
    {
      "cell_type": "markdown",
      "metadata": {
        "id": "view-in-github",
        "colab_type": "text"
      },
      "source": [
        "<a href=\"https://colab.research.google.com/github/brunomoraisnc/breast-cancer-nn-random-forest/blob/master/Breast_Cancer_Neural_Networks.ipynb\" target=\"_parent\"><img src=\"https://colab.research.google.com/assets/colab-badge.svg\" alt=\"Open In Colab\"/></a>"
      ]
    },
    {
      "cell_type": "markdown",
      "metadata": {
        "id": "g2fC5zDQNdi1",
        "colab_type": "text"
      },
      "source": [
        "### Importações"
      ]
    },
    {
      "cell_type": "code",
      "metadata": {
        "id": "yCeyWYWkw718",
        "colab_type": "code",
        "colab": {}
      },
      "source": [
        "import numpy as np\n",
        "import pandas as pd\n",
        "import matplotlib.pyplot as plt\n",
        "import seaborn as sns\n",
        "\n",
        "from sklearn.model_selection import train_test_split\n",
        "from sklearn.ensemble import RandomForestClassifier\n",
        "from sklearn.model_selection import cross_val_score\n",
        "from sklearn.preprocessing import normalize"
      ],
      "execution_count": 0,
      "outputs": []
    },
    {
      "cell_type": "markdown",
      "metadata": {
        "id": "0ZWqz8MRNudX",
        "colab_type": "text"
      },
      "source": [
        "### Leitura do arquivo"
      ]
    },
    {
      "cell_type": "code",
      "metadata": {
        "id": "xZ4WSuE-XDJ1",
        "colab_type": "code",
        "colab": {}
      },
      "source": [
        "# Install the PyDrive wrapper & import libraries.\n",
        "# This only needs to be done once per notebook.\n",
        "!pip install -U -q PyDrive\n",
        "from pydrive.auth import GoogleAuth\n",
        "from pydrive.drive import GoogleDrive\n",
        "from google.colab import auth\n",
        "from oauth2client.client import GoogleCredentials\n",
        "\n",
        "# Authenticate and create the PyDrive client.\n",
        "# This only needs to be done once per notebook.\n",
        "auth.authenticate_user()\n",
        "gauth = GoogleAuth()\n",
        "gauth.credentials = GoogleCredentials.get_application_default()\n",
        "drive = GoogleDrive(gauth)\n",
        "\n",
        "# Download a file based on its file ID.\n",
        "#\n",
        "# A file ID looks like: laggVyWshwcyP6kEI-y_W3P8D26sz\n",
        "file_id = '1EMmkiIGX9cZiFRh0vRnhXxqUFFhV7tTO'\n",
        "downloaded = drive.CreateFile({'id': file_id})\n",
        "\n",
        "#print('Downloaded content \"{}\"'.format(downloaded.GetContentString()))"
      ],
      "execution_count": 0,
      "outputs": []
    },
    {
      "cell_type": "code",
      "metadata": {
        "id": "u1c94zgAeyt5",
        "colab_type": "code",
        "cellView": "both",
        "colab": {}
      },
      "source": [
        "#@title\n",
        "import sys\n",
        "if sys.version_info[0] < 3: \n",
        "    from StringIO import StringIO\n",
        "else:\n",
        "    from io import StringIO\n",
        "\n",
        "TESTDATA = StringIO(downloaded.GetContentString())\n",
        "df = pd.read_csv(TESTDATA, sep=\",\", header=None, index_col=None)\n",
        "\n",
        "#df = pd.DataFrame(downloaded)"
      ],
      "execution_count": 0,
      "outputs": []
    },
    {
      "cell_type": "markdown",
      "metadata": {
        "id": "5fXJtUnNN6Sj",
        "colab_type": "text"
      },
      "source": [
        "### Visão Geral"
      ]
    },
    {
      "cell_type": "code",
      "metadata": {
        "id": "1zF4QjRvfrf5",
        "colab_type": "code",
        "outputId": "77e04f26-2bbb-4635-810d-a02792ce1ed0",
        "colab": {
          "base_uri": "https://localhost:8080/",
          "height": 204
        }
      },
      "source": [
        "df.head()"
      ],
      "execution_count": 0,
      "outputs": [
        {
          "output_type": "execute_result",
          "data": {
            "text/html": [
              "<div>\n",
              "<style scoped>\n",
              "    .dataframe tbody tr th:only-of-type {\n",
              "        vertical-align: middle;\n",
              "    }\n",
              "\n",
              "    .dataframe tbody tr th {\n",
              "        vertical-align: top;\n",
              "    }\n",
              "\n",
              "    .dataframe thead th {\n",
              "        text-align: right;\n",
              "    }\n",
              "</style>\n",
              "<table border=\"1\" class=\"dataframe\">\n",
              "  <thead>\n",
              "    <tr style=\"text-align: right;\">\n",
              "      <th></th>\n",
              "      <th>0</th>\n",
              "      <th>1</th>\n",
              "      <th>2</th>\n",
              "      <th>3</th>\n",
              "      <th>4</th>\n",
              "      <th>5</th>\n",
              "      <th>6</th>\n",
              "      <th>7</th>\n",
              "      <th>8</th>\n",
              "      <th>9</th>\n",
              "      <th>10</th>\n",
              "    </tr>\n",
              "  </thead>\n",
              "  <tbody>\n",
              "    <tr>\n",
              "      <th>0</th>\n",
              "      <td>1000025</td>\n",
              "      <td>5</td>\n",
              "      <td>1</td>\n",
              "      <td>1</td>\n",
              "      <td>1</td>\n",
              "      <td>2</td>\n",
              "      <td>1</td>\n",
              "      <td>3</td>\n",
              "      <td>1</td>\n",
              "      <td>1</td>\n",
              "      <td>2</td>\n",
              "    </tr>\n",
              "    <tr>\n",
              "      <th>1</th>\n",
              "      <td>1002945</td>\n",
              "      <td>5</td>\n",
              "      <td>4</td>\n",
              "      <td>4</td>\n",
              "      <td>5</td>\n",
              "      <td>7</td>\n",
              "      <td>10</td>\n",
              "      <td>3</td>\n",
              "      <td>2</td>\n",
              "      <td>1</td>\n",
              "      <td>2</td>\n",
              "    </tr>\n",
              "    <tr>\n",
              "      <th>2</th>\n",
              "      <td>1015425</td>\n",
              "      <td>3</td>\n",
              "      <td>1</td>\n",
              "      <td>1</td>\n",
              "      <td>1</td>\n",
              "      <td>2</td>\n",
              "      <td>2</td>\n",
              "      <td>3</td>\n",
              "      <td>1</td>\n",
              "      <td>1</td>\n",
              "      <td>2</td>\n",
              "    </tr>\n",
              "    <tr>\n",
              "      <th>3</th>\n",
              "      <td>1016277</td>\n",
              "      <td>6</td>\n",
              "      <td>8</td>\n",
              "      <td>8</td>\n",
              "      <td>1</td>\n",
              "      <td>3</td>\n",
              "      <td>4</td>\n",
              "      <td>3</td>\n",
              "      <td>7</td>\n",
              "      <td>1</td>\n",
              "      <td>2</td>\n",
              "    </tr>\n",
              "    <tr>\n",
              "      <th>4</th>\n",
              "      <td>1017023</td>\n",
              "      <td>4</td>\n",
              "      <td>1</td>\n",
              "      <td>1</td>\n",
              "      <td>3</td>\n",
              "      <td>2</td>\n",
              "      <td>1</td>\n",
              "      <td>3</td>\n",
              "      <td>1</td>\n",
              "      <td>1</td>\n",
              "      <td>2</td>\n",
              "    </tr>\n",
              "  </tbody>\n",
              "</table>\n",
              "</div>"
            ],
            "text/plain": [
              "        0   1   2   3   4   5   6   7   8   9   10\n",
              "0  1000025   5   1   1   1   2   1   3   1   1   2\n",
              "1  1002945   5   4   4   5   7  10   3   2   1   2\n",
              "2  1015425   3   1   1   1   2   2   3   1   1   2\n",
              "3  1016277   6   8   8   1   3   4   3   7   1   2\n",
              "4  1017023   4   1   1   3   2   1   3   1   1   2"
            ]
          },
          "metadata": {
            "tags": []
          },
          "execution_count": 4
        }
      ]
    },
    {
      "cell_type": "code",
      "metadata": {
        "id": "iawnJUZIh6lM",
        "colab_type": "code",
        "outputId": "630a75e2-819d-4802-9fd3-a3c15f75517e",
        "colab": {
          "base_uri": "https://localhost:8080/",
          "height": 204
        }
      },
      "source": [
        "df.tail(5)"
      ],
      "execution_count": 0,
      "outputs": [
        {
          "output_type": "execute_result",
          "data": {
            "text/html": [
              "<div>\n",
              "<style scoped>\n",
              "    .dataframe tbody tr th:only-of-type {\n",
              "        vertical-align: middle;\n",
              "    }\n",
              "\n",
              "    .dataframe tbody tr th {\n",
              "        vertical-align: top;\n",
              "    }\n",
              "\n",
              "    .dataframe thead th {\n",
              "        text-align: right;\n",
              "    }\n",
              "</style>\n",
              "<table border=\"1\" class=\"dataframe\">\n",
              "  <thead>\n",
              "    <tr style=\"text-align: right;\">\n",
              "      <th></th>\n",
              "      <th>0</th>\n",
              "      <th>1</th>\n",
              "      <th>2</th>\n",
              "      <th>3</th>\n",
              "      <th>4</th>\n",
              "      <th>5</th>\n",
              "      <th>6</th>\n",
              "      <th>7</th>\n",
              "      <th>8</th>\n",
              "      <th>9</th>\n",
              "      <th>10</th>\n",
              "    </tr>\n",
              "  </thead>\n",
              "  <tbody>\n",
              "    <tr>\n",
              "      <th>694</th>\n",
              "      <td>776715</td>\n",
              "      <td>3</td>\n",
              "      <td>1</td>\n",
              "      <td>1</td>\n",
              "      <td>1</td>\n",
              "      <td>3</td>\n",
              "      <td>2</td>\n",
              "      <td>1</td>\n",
              "      <td>1</td>\n",
              "      <td>1</td>\n",
              "      <td>2</td>\n",
              "    </tr>\n",
              "    <tr>\n",
              "      <th>695</th>\n",
              "      <td>841769</td>\n",
              "      <td>2</td>\n",
              "      <td>1</td>\n",
              "      <td>1</td>\n",
              "      <td>1</td>\n",
              "      <td>2</td>\n",
              "      <td>1</td>\n",
              "      <td>1</td>\n",
              "      <td>1</td>\n",
              "      <td>1</td>\n",
              "      <td>2</td>\n",
              "    </tr>\n",
              "    <tr>\n",
              "      <th>696</th>\n",
              "      <td>888820</td>\n",
              "      <td>5</td>\n",
              "      <td>10</td>\n",
              "      <td>10</td>\n",
              "      <td>3</td>\n",
              "      <td>7</td>\n",
              "      <td>3</td>\n",
              "      <td>8</td>\n",
              "      <td>10</td>\n",
              "      <td>2</td>\n",
              "      <td>4</td>\n",
              "    </tr>\n",
              "    <tr>\n",
              "      <th>697</th>\n",
              "      <td>897471</td>\n",
              "      <td>4</td>\n",
              "      <td>8</td>\n",
              "      <td>6</td>\n",
              "      <td>4</td>\n",
              "      <td>3</td>\n",
              "      <td>4</td>\n",
              "      <td>10</td>\n",
              "      <td>6</td>\n",
              "      <td>1</td>\n",
              "      <td>4</td>\n",
              "    </tr>\n",
              "    <tr>\n",
              "      <th>698</th>\n",
              "      <td>897471</td>\n",
              "      <td>4</td>\n",
              "      <td>8</td>\n",
              "      <td>8</td>\n",
              "      <td>5</td>\n",
              "      <td>4</td>\n",
              "      <td>5</td>\n",
              "      <td>10</td>\n",
              "      <td>4</td>\n",
              "      <td>1</td>\n",
              "      <td>4</td>\n",
              "    </tr>\n",
              "  </tbody>\n",
              "</table>\n",
              "</div>"
            ],
            "text/plain": [
              "         0   1   2   3   4   5  6   7   8   9   10\n",
              "694  776715   3   1   1   1   3  2   1   1   1   2\n",
              "695  841769   2   1   1   1   2  1   1   1   1   2\n",
              "696  888820   5  10  10   3   7  3   8  10   2   4\n",
              "697  897471   4   8   6   4   3  4  10   6   1   4\n",
              "698  897471   4   8   8   5   4  5  10   4   1   4"
            ]
          },
          "metadata": {
            "tags": []
          },
          "execution_count": 5
        }
      ]
    },
    {
      "cell_type": "code",
      "metadata": {
        "id": "kuH4v7y3iFQ1",
        "colab_type": "code",
        "outputId": "499db0ee-cc41-4c1e-ab6e-e59232e5c954",
        "colab": {
          "base_uri": "https://localhost:8080/",
          "height": 297
        }
      },
      "source": [
        "df.describe()"
      ],
      "execution_count": 0,
      "outputs": [
        {
          "output_type": "execute_result",
          "data": {
            "text/html": [
              "<div>\n",
              "<style scoped>\n",
              "    .dataframe tbody tr th:only-of-type {\n",
              "        vertical-align: middle;\n",
              "    }\n",
              "\n",
              "    .dataframe tbody tr th {\n",
              "        vertical-align: top;\n",
              "    }\n",
              "\n",
              "    .dataframe thead th {\n",
              "        text-align: right;\n",
              "    }\n",
              "</style>\n",
              "<table border=\"1\" class=\"dataframe\">\n",
              "  <thead>\n",
              "    <tr style=\"text-align: right;\">\n",
              "      <th></th>\n",
              "      <th>0</th>\n",
              "      <th>1</th>\n",
              "      <th>2</th>\n",
              "      <th>3</th>\n",
              "      <th>4</th>\n",
              "      <th>5</th>\n",
              "      <th>7</th>\n",
              "      <th>8</th>\n",
              "      <th>9</th>\n",
              "      <th>10</th>\n",
              "    </tr>\n",
              "  </thead>\n",
              "  <tbody>\n",
              "    <tr>\n",
              "      <th>count</th>\n",
              "      <td>6.990000e+02</td>\n",
              "      <td>699.000000</td>\n",
              "      <td>699.000000</td>\n",
              "      <td>699.000000</td>\n",
              "      <td>699.000000</td>\n",
              "      <td>699.000000</td>\n",
              "      <td>699.000000</td>\n",
              "      <td>699.000000</td>\n",
              "      <td>699.000000</td>\n",
              "      <td>699.000000</td>\n",
              "    </tr>\n",
              "    <tr>\n",
              "      <th>mean</th>\n",
              "      <td>1.071704e+06</td>\n",
              "      <td>4.417740</td>\n",
              "      <td>3.134478</td>\n",
              "      <td>3.207439</td>\n",
              "      <td>2.806867</td>\n",
              "      <td>3.216023</td>\n",
              "      <td>3.437768</td>\n",
              "      <td>2.866953</td>\n",
              "      <td>1.589413</td>\n",
              "      <td>2.689557</td>\n",
              "    </tr>\n",
              "    <tr>\n",
              "      <th>std</th>\n",
              "      <td>6.170957e+05</td>\n",
              "      <td>2.815741</td>\n",
              "      <td>3.051459</td>\n",
              "      <td>2.971913</td>\n",
              "      <td>2.855379</td>\n",
              "      <td>2.214300</td>\n",
              "      <td>2.438364</td>\n",
              "      <td>3.053634</td>\n",
              "      <td>1.715078</td>\n",
              "      <td>0.951273</td>\n",
              "    </tr>\n",
              "    <tr>\n",
              "      <th>min</th>\n",
              "      <td>6.163400e+04</td>\n",
              "      <td>1.000000</td>\n",
              "      <td>1.000000</td>\n",
              "      <td>1.000000</td>\n",
              "      <td>1.000000</td>\n",
              "      <td>1.000000</td>\n",
              "      <td>1.000000</td>\n",
              "      <td>1.000000</td>\n",
              "      <td>1.000000</td>\n",
              "      <td>2.000000</td>\n",
              "    </tr>\n",
              "    <tr>\n",
              "      <th>25%</th>\n",
              "      <td>8.706885e+05</td>\n",
              "      <td>2.000000</td>\n",
              "      <td>1.000000</td>\n",
              "      <td>1.000000</td>\n",
              "      <td>1.000000</td>\n",
              "      <td>2.000000</td>\n",
              "      <td>2.000000</td>\n",
              "      <td>1.000000</td>\n",
              "      <td>1.000000</td>\n",
              "      <td>2.000000</td>\n",
              "    </tr>\n",
              "    <tr>\n",
              "      <th>50%</th>\n",
              "      <td>1.171710e+06</td>\n",
              "      <td>4.000000</td>\n",
              "      <td>1.000000</td>\n",
              "      <td>1.000000</td>\n",
              "      <td>1.000000</td>\n",
              "      <td>2.000000</td>\n",
              "      <td>3.000000</td>\n",
              "      <td>1.000000</td>\n",
              "      <td>1.000000</td>\n",
              "      <td>2.000000</td>\n",
              "    </tr>\n",
              "    <tr>\n",
              "      <th>75%</th>\n",
              "      <td>1.238298e+06</td>\n",
              "      <td>6.000000</td>\n",
              "      <td>5.000000</td>\n",
              "      <td>5.000000</td>\n",
              "      <td>4.000000</td>\n",
              "      <td>4.000000</td>\n",
              "      <td>5.000000</td>\n",
              "      <td>4.000000</td>\n",
              "      <td>1.000000</td>\n",
              "      <td>4.000000</td>\n",
              "    </tr>\n",
              "    <tr>\n",
              "      <th>max</th>\n",
              "      <td>1.345435e+07</td>\n",
              "      <td>10.000000</td>\n",
              "      <td>10.000000</td>\n",
              "      <td>10.000000</td>\n",
              "      <td>10.000000</td>\n",
              "      <td>10.000000</td>\n",
              "      <td>10.000000</td>\n",
              "      <td>10.000000</td>\n",
              "      <td>10.000000</td>\n",
              "      <td>4.000000</td>\n",
              "    </tr>\n",
              "  </tbody>\n",
              "</table>\n",
              "</div>"
            ],
            "text/plain": [
              "                 0           1           2           3           4   \\\n",
              "count  6.990000e+02  699.000000  699.000000  699.000000  699.000000   \n",
              "mean   1.071704e+06    4.417740    3.134478    3.207439    2.806867   \n",
              "std    6.170957e+05    2.815741    3.051459    2.971913    2.855379   \n",
              "min    6.163400e+04    1.000000    1.000000    1.000000    1.000000   \n",
              "25%    8.706885e+05    2.000000    1.000000    1.000000    1.000000   \n",
              "50%    1.171710e+06    4.000000    1.000000    1.000000    1.000000   \n",
              "75%    1.238298e+06    6.000000    5.000000    5.000000    4.000000   \n",
              "max    1.345435e+07   10.000000   10.000000   10.000000   10.000000   \n",
              "\n",
              "               5           7           8           9           10  \n",
              "count  699.000000  699.000000  699.000000  699.000000  699.000000  \n",
              "mean     3.216023    3.437768    2.866953    1.589413    2.689557  \n",
              "std      2.214300    2.438364    3.053634    1.715078    0.951273  \n",
              "min      1.000000    1.000000    1.000000    1.000000    2.000000  \n",
              "25%      2.000000    2.000000    1.000000    1.000000    2.000000  \n",
              "50%      2.000000    3.000000    1.000000    1.000000    2.000000  \n",
              "75%      4.000000    5.000000    4.000000    1.000000    4.000000  \n",
              "max     10.000000   10.000000   10.000000   10.000000    4.000000  "
            ]
          },
          "metadata": {
            "tags": []
          },
          "execution_count": 6
        }
      ]
    },
    {
      "cell_type": "markdown",
      "metadata": {
        "id": "KAQm0B6SOggG",
        "colab_type": "text"
      },
      "source": [
        "#### Quantidade de ocorrências e tipo de dado"
      ]
    },
    {
      "cell_type": "code",
      "metadata": {
        "id": "_lXvgHBDy7b_",
        "colab_type": "code",
        "outputId": "95ded127-13cc-470f-95a1-ad5f82c201a7",
        "colab": {
          "base_uri": "https://localhost:8080/",
          "height": 289
        }
      },
      "source": [
        "df.info()"
      ],
      "execution_count": 0,
      "outputs": [
        {
          "output_type": "stream",
          "text": [
            "<class 'pandas.core.frame.DataFrame'>\n",
            "RangeIndex: 699 entries, 0 to 698\n",
            "Data columns (total 11 columns):\n",
            "0     699 non-null int64\n",
            "1     699 non-null int64\n",
            "2     699 non-null int64\n",
            "3     699 non-null int64\n",
            "4     699 non-null int64\n",
            "5     699 non-null int64\n",
            "6     699 non-null object\n",
            "7     699 non-null int64\n",
            "8     699 non-null int64\n",
            "9     699 non-null int64\n",
            "10    699 non-null int64\n",
            "dtypes: int64(10), object(1)\n",
            "memory usage: 60.1+ KB\n"
          ],
          "name": "stdout"
        }
      ]
    },
    {
      "cell_type": "markdown",
      "metadata": {
        "id": "4UGPCpFNQO7U",
        "colab_type": "text"
      },
      "source": [
        "### Limpeza"
      ]
    },
    {
      "cell_type": "code",
      "metadata": {
        "id": "2vDVXuBa5GJ_",
        "colab_type": "code",
        "outputId": "ee917c00-bf43-4e86-ce32-11bd3c157eee",
        "colab": {
          "base_uri": "https://localhost:8080/",
          "height": 34
        }
      },
      "source": [
        "# Linha 6 com ? para deletar\n",
        "print(len(df[df[6] == '?']))\n",
        "\n",
        "df = df.drop(df[df[6] == '?'].index)"
      ],
      "execution_count": 0,
      "outputs": [
        {
          "output_type": "stream",
          "text": [
            "16\n"
          ],
          "name": "stdout"
        }
      ]
    },
    {
      "cell_type": "code",
      "metadata": {
        "id": "NSycYdw2fTkB",
        "colab_type": "code",
        "outputId": "c310f204-bca0-4f85-a9cc-e6908b4c2f6c",
        "colab": {
          "base_uri": "https://localhost:8080/",
          "height": 49
        }
      },
      "source": [
        "df[df[6] == '?']"
      ],
      "execution_count": 0,
      "outputs": [
        {
          "output_type": "execute_result",
          "data": {
            "text/html": [
              "<div>\n",
              "<style scoped>\n",
              "    .dataframe tbody tr th:only-of-type {\n",
              "        vertical-align: middle;\n",
              "    }\n",
              "\n",
              "    .dataframe tbody tr th {\n",
              "        vertical-align: top;\n",
              "    }\n",
              "\n",
              "    .dataframe thead th {\n",
              "        text-align: right;\n",
              "    }\n",
              "</style>\n",
              "<table border=\"1\" class=\"dataframe\">\n",
              "  <thead>\n",
              "    <tr style=\"text-align: right;\">\n",
              "      <th></th>\n",
              "      <th>0</th>\n",
              "      <th>1</th>\n",
              "      <th>2</th>\n",
              "      <th>3</th>\n",
              "      <th>4</th>\n",
              "      <th>5</th>\n",
              "      <th>6</th>\n",
              "      <th>7</th>\n",
              "      <th>8</th>\n",
              "      <th>9</th>\n",
              "      <th>10</th>\n",
              "    </tr>\n",
              "  </thead>\n",
              "  <tbody>\n",
              "  </tbody>\n",
              "</table>\n",
              "</div>"
            ],
            "text/plain": [
              "Empty DataFrame\n",
              "Columns: [0, 1, 2, 3, 4, 5, 6, 7, 8, 9, 10]\n",
              "Index: []"
            ]
          },
          "metadata": {
            "tags": []
          },
          "execution_count": 9
        }
      ]
    },
    {
      "cell_type": "markdown",
      "metadata": {
        "id": "AULNalXdQo-y",
        "colab_type": "text"
      },
      "source": [
        "#### Balanço pós-limpeza"
      ]
    },
    {
      "cell_type": "code",
      "metadata": {
        "id": "WSkSxbCF5SH7",
        "colab_type": "code",
        "outputId": "2eacc0b4-c0b8-4ca0-bca6-cb3b952c0f3e",
        "colab": {
          "base_uri": "https://localhost:8080/",
          "height": 289
        }
      },
      "source": [
        "df.info()"
      ],
      "execution_count": 0,
      "outputs": [
        {
          "output_type": "stream",
          "text": [
            "<class 'pandas.core.frame.DataFrame'>\n",
            "Int64Index: 683 entries, 0 to 698\n",
            "Data columns (total 11 columns):\n",
            "0     683 non-null int64\n",
            "1     683 non-null int64\n",
            "2     683 non-null int64\n",
            "3     683 non-null int64\n",
            "4     683 non-null int64\n",
            "5     683 non-null int64\n",
            "6     683 non-null object\n",
            "7     683 non-null int64\n",
            "8     683 non-null int64\n",
            "9     683 non-null int64\n",
            "10    683 non-null int64\n",
            "dtypes: int64(10), object(1)\n",
            "memory usage: 64.0+ KB\n"
          ],
          "name": "stdout"
        }
      ]
    },
    {
      "cell_type": "markdown",
      "metadata": {
        "id": "uvGni7XmO4s8",
        "colab_type": "text"
      },
      "source": [
        "### Gráfico de calor para avaliar correlação"
      ]
    },
    {
      "cell_type": "code",
      "metadata": {
        "id": "KtbBXKbK3mhx",
        "colab_type": "code",
        "outputId": "038d0858-af4e-4d80-a3ce-e9dc4be1ec26",
        "colab": {
          "base_uri": "https://localhost:8080/",
          "height": 401
        }
      },
      "source": [
        "df[6] = pd.to_numeric(df[6])\n",
        "corr = df.corr()\n",
        "\n",
        "plt.clf()\n",
        "sns.heatmap(corr, annot=True)\n",
        "plt.tight_layout()\n",
        "plt.show()"
      ],
      "execution_count": 0,
      "outputs": [
        {
          "output_type": "display_data",
          "data": {
            "image/png": "[encoded data removed]",
            "text/plain": [
              "<matplotlib.figure.Figure at 0x7f7305a08dd8>"
            ]
          },
          "metadata": {
            "tags": []
          }
        }
      ]
    },
    {
      "cell_type": "markdown",
      "metadata": {
        "id": "shhNhxF1PBS4",
        "colab_type": "text"
      },
      "source": [
        "### Segmentação"
      ]
    },
    {
      "cell_type": "markdown",
      "metadata": {
        "id": "7xWCcaMjPRN7",
        "colab_type": "text"
      },
      "source": [
        "#### Separação Vetor de características e Classe"
      ]
    },
    {
      "cell_type": "code",
      "metadata": {
        "id": "vcCaHL_nyesB",
        "colab_type": "code",
        "colab": {}
      },
      "source": [
        "X = df.iloc[:,1:10]\n",
        "y = df.iloc[:,10]"
      ],
      "execution_count": 0,
      "outputs": []
    },
    {
      "cell_type": "code",
      "metadata": {
        "id": "WRgCdb7Vxwsh",
        "colab_type": "code",
        "colab": {}
      },
      "source": [
        "#df.drop(0,axis=1, inplace=True)"
      ],
      "execution_count": 0,
      "outputs": []
    },
    {
      "cell_type": "markdown",
      "metadata": {
        "id": "iQNMfuOgPhlG",
        "colab_type": "text"
      },
      "source": [
        "##### Checagem"
      ]
    },
    {
      "cell_type": "code",
      "metadata": {
        "id": "Hma6SvvkyMdf",
        "colab_type": "code",
        "outputId": "5dc970a0-e6a3-4cb6-c524-59951abff15c",
        "colab": {
          "base_uri": "https://localhost:8080/",
          "height": 204
        }
      },
      "source": [
        "X.head()"
      ],
      "execution_count": 0,
      "outputs": [
        {
          "output_type": "execute_result",
          "data": {
            "text/html": [
              "<div>\n",
              "<style scoped>\n",
              "    .dataframe tbody tr th:only-of-type {\n",
              "        vertical-align: middle;\n",
              "    }\n",
              "\n",
              "    .dataframe tbody tr th {\n",
              "        vertical-align: top;\n",
              "    }\n",
              "\n",
              "    .dataframe thead th {\n",
              "        text-align: right;\n",
              "    }\n",
              "</style>\n",
              "<table border=\"1\" class=\"dataframe\">\n",
              "  <thead>\n",
              "    <tr style=\"text-align: right;\">\n",
              "      <th></th>\n",
              "      <th>1</th>\n",
              "      <th>2</th>\n",
              "      <th>3</th>\n",
              "      <th>4</th>\n",
              "      <th>5</th>\n",
              "      <th>6</th>\n",
              "      <th>7</th>\n",
              "      <th>8</th>\n",
              "      <th>9</th>\n",
              "    </tr>\n",
              "  </thead>\n",
              "  <tbody>\n",
              "    <tr>\n",
              "      <th>0</th>\n",
              "      <td>5</td>\n",
              "      <td>1</td>\n",
              "      <td>1</td>\n",
              "      <td>1</td>\n",
              "      <td>2</td>\n",
              "      <td>1</td>\n",
              "      <td>3</td>\n",
              "      <td>1</td>\n",
              "      <td>1</td>\n",
              "    </tr>\n",
              "    <tr>\n",
              "      <th>1</th>\n",
              "      <td>5</td>\n",
              "      <td>4</td>\n",
              "      <td>4</td>\n",
              "      <td>5</td>\n",
              "      <td>7</td>\n",
              "      <td>10</td>\n",
              "      <td>3</td>\n",
              "      <td>2</td>\n",
              "      <td>1</td>\n",
              "    </tr>\n",
              "    <tr>\n",
              "      <th>2</th>\n",
              "      <td>3</td>\n",
              "      <td>1</td>\n",
              "      <td>1</td>\n",
              "      <td>1</td>\n",
              "      <td>2</td>\n",
              "      <td>2</td>\n",
              "      <td>3</td>\n",
              "      <td>1</td>\n",
              "      <td>1</td>\n",
              "    </tr>\n",
              "    <tr>\n",
              "      <th>3</th>\n",
              "      <td>6</td>\n",
              "      <td>8</td>\n",
              "      <td>8</td>\n",
              "      <td>1</td>\n",
              "      <td>3</td>\n",
              "      <td>4</td>\n",
              "      <td>3</td>\n",
              "      <td>7</td>\n",
              "      <td>1</td>\n",
              "    </tr>\n",
              "    <tr>\n",
              "      <th>4</th>\n",
              "      <td>4</td>\n",
              "      <td>1</td>\n",
              "      <td>1</td>\n",
              "      <td>3</td>\n",
              "      <td>2</td>\n",
              "      <td>1</td>\n",
              "      <td>3</td>\n",
              "      <td>1</td>\n",
              "      <td>1</td>\n",
              "    </tr>\n",
              "  </tbody>\n",
              "</table>\n",
              "</div>"
            ],
            "text/plain": [
              "   1  2  3  4  5   6  7  8  9\n",
              "0  5  1  1  1  2   1  3  1  1\n",
              "1  5  4  4  5  7  10  3  2  1\n",
              "2  3  1  1  1  2   2  3  1  1\n",
              "3  6  8  8  1  3   4  3  7  1\n",
              "4  4  1  1  3  2   1  3  1  1"
            ]
          },
          "metadata": {
            "tags": []
          },
          "execution_count": 14
        }
      ]
    },
    {
      "cell_type": "code",
      "metadata": {
        "id": "pQYU3AEEzJqR",
        "colab_type": "code",
        "outputId": "352bea13-fa75-4c71-d923-e872b229d88d",
        "colab": {
          "base_uri": "https://localhost:8080/",
          "height": 119
        }
      },
      "source": [
        "y.head()"
      ],
      "execution_count": 0,
      "outputs": [
        {
          "output_type": "execute_result",
          "data": {
            "text/plain": [
              "0    2\n",
              "1    2\n",
              "2    2\n",
              "3    2\n",
              "4    2\n",
              "Name: 10, dtype: int64"
            ]
          },
          "metadata": {
            "tags": []
          },
          "execution_count": 15
        }
      ]
    },
    {
      "cell_type": "code",
      "metadata": {
        "id": "iThhTnaKxba4",
        "colab_type": "code",
        "colab": {}
      },
      "source": [
        "#df.drop_duplicates"
      ],
      "execution_count": 0,
      "outputs": []
    },
    {
      "cell_type": "markdown",
      "metadata": {
        "id": "iVH848U6mlWR",
        "colab_type": "text"
      },
      "source": [
        "### Normalização"
      ]
    },
    {
      "cell_type": "code",
      "metadata": {
        "id": "OK-mi-dArAX6",
        "colab_type": "code",
        "colab": {}
      },
      "source": [
        "from sklearn.preprocessing import Normalizer\n",
        "\n",
        "transformer = Normalizer().fit(X)\n",
        "X = pd.DataFrame(transformer.transform(X))"
      ],
      "execution_count": 0,
      "outputs": []
    },
    {
      "cell_type": "code",
      "metadata": {
        "id": "c97Tn_a1r9qb",
        "colab_type": "code",
        "outputId": "3fc246cb-b55e-49ae-9db8-e55d1ed26702",
        "colab": {
          "base_uri": "https://localhost:8080/",
          "height": 204
        }
      },
      "source": [
        "X.head()"
      ],
      "execution_count": 0,
      "outputs": [
        {
          "output_type": "execute_result",
          "data": {
            "text/html": [
              "<div>\n",
              "<style scoped>\n",
              "    .dataframe tbody tr th:only-of-type {\n",
              "        vertical-align: middle;\n",
              "    }\n",
              "\n",
              "    .dataframe tbody tr th {\n",
              "        vertical-align: top;\n",
              "    }\n",
              "\n",
              "    .dataframe thead th {\n",
              "        text-align: right;\n",
              "    }\n",
              "</style>\n",
              "<table border=\"1\" class=\"dataframe\">\n",
              "  <thead>\n",
              "    <tr style=\"text-align: right;\">\n",
              "      <th></th>\n",
              "      <th>0</th>\n",
              "      <th>1</th>\n",
              "      <th>2</th>\n",
              "      <th>3</th>\n",
              "      <th>4</th>\n",
              "      <th>5</th>\n",
              "      <th>6</th>\n",
              "      <th>7</th>\n",
              "      <th>8</th>\n",
              "    </tr>\n",
              "  </thead>\n",
              "  <tbody>\n",
              "    <tr>\n",
              "      <th>0</th>\n",
              "      <td>0.753778</td>\n",
              "      <td>0.150756</td>\n",
              "      <td>0.150756</td>\n",
              "      <td>0.150756</td>\n",
              "      <td>0.301511</td>\n",
              "      <td>0.150756</td>\n",
              "      <td>0.452267</td>\n",
              "      <td>0.150756</td>\n",
              "      <td>0.150756</td>\n",
              "    </tr>\n",
              "    <tr>\n",
              "      <th>1</th>\n",
              "      <td>0.319438</td>\n",
              "      <td>0.255551</td>\n",
              "      <td>0.255551</td>\n",
              "      <td>0.319438</td>\n",
              "      <td>0.447214</td>\n",
              "      <td>0.638877</td>\n",
              "      <td>0.191663</td>\n",
              "      <td>0.127775</td>\n",
              "      <td>0.063888</td>\n",
              "    </tr>\n",
              "    <tr>\n",
              "      <th>2</th>\n",
              "      <td>0.538816</td>\n",
              "      <td>0.179605</td>\n",
              "      <td>0.179605</td>\n",
              "      <td>0.179605</td>\n",
              "      <td>0.359211</td>\n",
              "      <td>0.359211</td>\n",
              "      <td>0.538816</td>\n",
              "      <td>0.179605</td>\n",
              "      <td>0.179605</td>\n",
              "    </tr>\n",
              "    <tr>\n",
              "      <th>3</th>\n",
              "      <td>0.380235</td>\n",
              "      <td>0.506979</td>\n",
              "      <td>0.506979</td>\n",
              "      <td>0.063372</td>\n",
              "      <td>0.190117</td>\n",
              "      <td>0.253490</td>\n",
              "      <td>0.190117</td>\n",
              "      <td>0.443607</td>\n",
              "      <td>0.063372</td>\n",
              "    </tr>\n",
              "    <tr>\n",
              "      <th>4</th>\n",
              "      <td>0.609994</td>\n",
              "      <td>0.152499</td>\n",
              "      <td>0.152499</td>\n",
              "      <td>0.457496</td>\n",
              "      <td>0.304997</td>\n",
              "      <td>0.152499</td>\n",
              "      <td>0.457496</td>\n",
              "      <td>0.152499</td>\n",
              "      <td>0.152499</td>\n",
              "    </tr>\n",
              "  </tbody>\n",
              "</table>\n",
              "</div>"
            ],
            "text/plain": [
              "          0         1         2         3         4         5         6  \\\n",
              "0  0.753778  0.150756  0.150756  0.150756  0.301511  0.150756  0.452267   \n",
              "1  0.319438  0.255551  0.255551  0.319438  0.447214  0.638877  0.191663   \n",
              "2  0.538816  0.179605  0.179605  0.179605  0.359211  0.359211  0.538816   \n",
              "3  0.380235  0.506979  0.506979  0.063372  0.190117  0.253490  0.190117   \n",
              "4  0.609994  0.152499  0.152499  0.457496  0.304997  0.152499  0.457496   \n",
              "\n",
              "          7         8  \n",
              "0  0.150756  0.150756  \n",
              "1  0.127775  0.063888  \n",
              "2  0.179605  0.179605  \n",
              "3  0.443607  0.063372  \n",
              "4  0.152499  0.152499  "
            ]
          },
          "metadata": {
            "tags": []
          },
          "execution_count": 43
        }
      ]
    },
    {
      "cell_type": "markdown",
      "metadata": {
        "id": "MwkCBUH6Q7R1",
        "colab_type": "text"
      },
      "source": [
        "#### Treino e teste"
      ]
    },
    {
      "cell_type": "code",
      "metadata": {
        "id": "LLoKS4qnWnEq",
        "colab_type": "code",
        "outputId": "199e637e-7328-4e36-ac9a-6729a3d28025",
        "colab": {
          "base_uri": "https://localhost:8080/",
          "height": 71
        }
      },
      "source": [
        "X_train, X_test, y_train, y_test = train_test_split(X,y,train_size=0.40, random_state=21)"
      ],
      "execution_count": 0,
      "outputs": [
        {
          "output_type": "stream",
          "text": [
            "/usr/local/lib/python3.6/dist-packages/sklearn/model_selection/_split.py:2026: FutureWarning: From version 0.21, test_size will always complement train_size unless both are specified.\n",
            "  FutureWarning)\n"
          ],
          "name": "stderr"
        }
      ]
    },
    {
      "cell_type": "markdown",
      "metadata": {
        "id": "m56TAyZYRhVw",
        "colab_type": "text"
      },
      "source": [
        "##### Ocorrências Treino"
      ]
    },
    {
      "cell_type": "code",
      "metadata": {
        "id": "p6HaCPBozbSS",
        "colab_type": "code",
        "outputId": "589ef357-f12e-40f9-af24-531e2403ed09",
        "colab": {
          "base_uri": "https://localhost:8080/",
          "height": 323
        }
      },
      "source": [
        "print(X_train.info(), '\\n')\n",
        "print('y: ', len(y_train), '\\n')"
      ],
      "execution_count": 0,
      "outputs": [
        {
          "output_type": "stream",
          "text": [
            "<class 'pandas.core.frame.DataFrame'>\n",
            "Int64Index: 273 entries, 18 to 207\n",
            "Data columns (total 9 columns):\n",
            "0    273 non-null float64\n",
            "1    273 non-null float64\n",
            "2    273 non-null float64\n",
            "3    273 non-null float64\n",
            "4    273 non-null float64\n",
            "5    273 non-null float64\n",
            "6    273 non-null float64\n",
            "7    273 non-null float64\n",
            "8    273 non-null float64\n",
            "dtypes: float64(9)\n",
            "memory usage: 21.3 KB\n",
            "None \n",
            "\n",
            "y:  273 \n",
            "\n"
          ],
          "name": "stdout"
        }
      ]
    },
    {
      "cell_type": "markdown",
      "metadata": {
        "id": "Gb86zQTZRq_z",
        "colab_type": "text"
      },
      "source": [
        "##### Ocorrências Teste"
      ]
    },
    {
      "cell_type": "code",
      "metadata": {
        "id": "68W18s8VRugd",
        "colab_type": "code",
        "outputId": "cb045e61-b348-4fab-e9c3-da330864b014",
        "colab": {
          "base_uri": "https://localhost:8080/",
          "height": 323
        }
      },
      "source": [
        "print(X_test.info(), '\\n')\n",
        "print('y: ', len(y_test), '\\n')"
      ],
      "execution_count": 0,
      "outputs": [
        {
          "output_type": "stream",
          "text": [
            "<class 'pandas.core.frame.DataFrame'>\n",
            "Int64Index: 410 entries, 230 to 60\n",
            "Data columns (total 9 columns):\n",
            "0    410 non-null float64\n",
            "1    410 non-null float64\n",
            "2    410 non-null float64\n",
            "3    410 non-null float64\n",
            "4    410 non-null float64\n",
            "5    410 non-null float64\n",
            "6    410 non-null float64\n",
            "7    410 non-null float64\n",
            "8    410 non-null float64\n",
            "dtypes: float64(9)\n",
            "memory usage: 32.0 KB\n",
            "None \n",
            "\n",
            "y:  410 \n",
            "\n"
          ],
          "name": "stdout"
        }
      ]
    },
    {
      "cell_type": "code",
      "metadata": {
        "id": "jtn99OvvgCF_",
        "colab_type": "code",
        "cellView": "both",
        "colab": {}
      },
      "source": [
        "#@title\n",
        "#uploaded = files.upload()\n",
        "#df = pd.read_csv(io.StringIO(uploaded['bs140513_032310_full.csv'].decode('utf-8')))"
      ],
      "execution_count": 0,
      "outputs": []
    },
    {
      "cell_type": "markdown",
      "metadata": {
        "id": "VckPgLr7SeGY",
        "colab_type": "text"
      },
      "source": [
        "### Parametrização"
      ]
    },
    {
      "cell_type": "code",
      "metadata": {
        "colab_type": "code",
        "id": "ElFMJgQJAJvf",
        "colab": {}
      },
      "source": [
        "#from sklearn.model_selection import ParameterGrid\n",
        "\n",
        "#grid = [{'n_estimators': [10,20,30,40,50,100,200],'max_depth': [3,5,7,13], 'max_features': [3,6,9], 'random_state': [21]}]\n",
        "#list(ParameterGrid(grid))\n",
        "\n",
        "#scores = []\n",
        "\n",
        "#clf = RandomForestClassifier()\n",
        "\n",
        "#for g in ParameterGrid(grid):\n",
        "#  clf.set_params(**g)\n",
        "#  clf.fit(X_train, y_train)\n",
        "#  predict_test = clf.predict(X_test)\n",
        "#  scores.append(clf.score(X_test, y_test))\n",
        "\n",
        "#grid.best_params_\n",
        "#clf.fit(X_train, y_train)\n",
        "#clf.score(y_train, clf.predict(X_train))"
      ],
      "execution_count": 0,
      "outputs": []
    },
    {
      "cell_type": "code",
      "metadata": {
        "id": "oEeqc6JRHQZB",
        "colab_type": "code",
        "colab": {}
      },
      "source": [
        "#best_index = np.array(scores).argmax()\n",
        "#print('Melhor configuração: ', ParameterGrid(grid)[24])\n",
        "\n",
        "#clf2 = RandomForestClassifier(**ParameterGrid(grid)[24])\n",
        "#clf2.fit(X_train, y_train)\n",
        "\n",
        "#score_train = clf2.score(X_train, y_train)\n",
        "#score_test = clf2.score(X_test, y_test)\n",
        "\n",
        "#print('Melhor resultado em treino: ', score_train)\n",
        "#print('Melhor resultado em teste: ', score_test)\n"
      ],
      "execution_count": 0,
      "outputs": []
    },
    {
      "cell_type": "code",
      "metadata": {
        "id": "yFcyBlr8jkM1",
        "colab_type": "code",
        "outputId": "07691641-7495-4e16-9254-b56408f08b51",
        "colab": {
          "base_uri": "https://localhost:8080/",
          "height": 1159
        }
      },
      "source": [
        "from sklearn.neural_network import MLPClassifier\n",
        "from sklearn.model_selection import GridSearchCV\n",
        "\n",
        "nn = MLPClassifier()\n",
        "gridNN = {'activation': ['identity', 'logistic', 'tanh', 'relu'], 'hidden_layer_sizes': [(4,8,3)], 'solver': ['lbfgs', 'sgd', 'adam'], 'random_state': [21]}\n",
        "\n",
        "clf_gsearch = GridSearchCV(nn,gridNN, cv=5)\n",
        "clf_gsearch.fit(X_train, y_train)\n",
        "\n",
        "#sorted(clf_gsearch.cv_results.keys())"
      ],
      "execution_count": 0,
      "outputs": [
        {
          "output_type": "stream",
          "text": [
            "/usr/local/lib/python3.6/dist-packages/sklearn/neural_network/multilayer_perceptron.py:564: ConvergenceWarning: Stochastic Optimizer: Maximum iterations (200) reached and the optimization hasn't converged yet.\n",
            "  % self.max_iter, ConvergenceWarning)\n",
            "/usr/local/lib/python3.6/dist-packages/sklearn/neural_network/multilayer_perceptron.py:564: ConvergenceWarning: Stochastic Optimizer: Maximum iterations (200) reached and the optimization hasn't converged yet.\n",
            "  % self.max_iter, ConvergenceWarning)\n",
            "/usr/local/lib/python3.6/dist-packages/sklearn/neural_network/multilayer_perceptron.py:564: ConvergenceWarning: Stochastic Optimizer: Maximum iterations (200) reached and the optimization hasn't converged yet.\n",
            "  % self.max_iter, ConvergenceWarning)\n",
            "/usr/local/lib/python3.6/dist-packages/sklearn/neural_network/multilayer_perceptron.py:564: ConvergenceWarning: Stochastic Optimizer: Maximum iterations (200) reached and the optimization hasn't converged yet.\n",
            "  % self.max_iter, ConvergenceWarning)\n",
            "/usr/local/lib/python3.6/dist-packages/sklearn/neural_network/multilayer_perceptron.py:564: ConvergenceWarning: Stochastic Optimizer: Maximum iterations (200) reached and the optimization hasn't converged yet.\n",
            "  % self.max_iter, ConvergenceWarning)\n",
            "/usr/local/lib/python3.6/dist-packages/sklearn/neural_network/multilayer_perceptron.py:564: ConvergenceWarning: Stochastic Optimizer: Maximum iterations (200) reached and the optimization hasn't converged yet.\n",
            "  % self.max_iter, ConvergenceWarning)\n",
            "/usr/local/lib/python3.6/dist-packages/sklearn/neural_network/multilayer_perceptron.py:564: ConvergenceWarning: Stochastic Optimizer: Maximum iterations (200) reached and the optimization hasn't converged yet.\n",
            "  % self.max_iter, ConvergenceWarning)\n",
            "/usr/local/lib/python3.6/dist-packages/sklearn/neural_network/multilayer_perceptron.py:564: ConvergenceWarning: Stochastic Optimizer: Maximum iterations (200) reached and the optimization hasn't converged yet.\n",
            "  % self.max_iter, ConvergenceWarning)\n",
            "/usr/local/lib/python3.6/dist-packages/sklearn/neural_network/multilayer_perceptron.py:564: ConvergenceWarning: Stochastic Optimizer: Maximum iterations (200) reached and the optimization hasn't converged yet.\n",
            "  % self.max_iter, ConvergenceWarning)\n",
            "/usr/local/lib/python3.6/dist-packages/sklearn/neural_network/multilayer_perceptron.py:564: ConvergenceWarning: Stochastic Optimizer: Maximum iterations (200) reached and the optimization hasn't converged yet.\n",
            "  % self.max_iter, ConvergenceWarning)\n",
            "/usr/local/lib/python3.6/dist-packages/sklearn/neural_network/multilayer_perceptron.py:564: ConvergenceWarning: Stochastic Optimizer: Maximum iterations (200) reached and the optimization hasn't converged yet.\n",
            "  % self.max_iter, ConvergenceWarning)\n",
            "/usr/local/lib/python3.6/dist-packages/sklearn/neural_network/multilayer_perceptron.py:564: ConvergenceWarning: Stochastic Optimizer: Maximum iterations (200) reached and the optimization hasn't converged yet.\n",
            "  % self.max_iter, ConvergenceWarning)\n",
            "/usr/local/lib/python3.6/dist-packages/sklearn/neural_network/multilayer_perceptron.py:564: ConvergenceWarning: Stochastic Optimizer: Maximum iterations (200) reached and the optimization hasn't converged yet.\n",
            "  % self.max_iter, ConvergenceWarning)\n",
            "/usr/local/lib/python3.6/dist-packages/sklearn/neural_network/multilayer_perceptron.py:564: ConvergenceWarning: Stochastic Optimizer: Maximum iterations (200) reached and the optimization hasn't converged yet.\n",
            "  % self.max_iter, ConvergenceWarning)\n",
            "/usr/local/lib/python3.6/dist-packages/sklearn/neural_network/multilayer_perceptron.py:564: ConvergenceWarning: Stochastic Optimizer: Maximum iterations (200) reached and the optimization hasn't converged yet.\n",
            "  % self.max_iter, ConvergenceWarning)\n",
            "/usr/local/lib/python3.6/dist-packages/sklearn/neural_network/multilayer_perceptron.py:564: ConvergenceWarning: Stochastic Optimizer: Maximum iterations (200) reached and the optimization hasn't converged yet.\n",
            "  % self.max_iter, ConvergenceWarning)\n",
            "/usr/local/lib/python3.6/dist-packages/sklearn/neural_network/multilayer_perceptron.py:564: ConvergenceWarning: Stochastic Optimizer: Maximum iterations (200) reached and the optimization hasn't converged yet.\n",
            "  % self.max_iter, ConvergenceWarning)\n",
            "/usr/local/lib/python3.6/dist-packages/sklearn/neural_network/multilayer_perceptron.py:564: ConvergenceWarning: Stochastic Optimizer: Maximum iterations (200) reached and the optimization hasn't converged yet.\n",
            "  % self.max_iter, ConvergenceWarning)\n",
            "/usr/local/lib/python3.6/dist-packages/sklearn/neural_network/multilayer_perceptron.py:564: ConvergenceWarning: Stochastic Optimizer: Maximum iterations (200) reached and the optimization hasn't converged yet.\n",
            "  % self.max_iter, ConvergenceWarning)\n",
            "/usr/local/lib/python3.6/dist-packages/sklearn/neural_network/multilayer_perceptron.py:564: ConvergenceWarning: Stochastic Optimizer: Maximum iterations (200) reached and the optimization hasn't converged yet.\n",
            "  % self.max_iter, ConvergenceWarning)\n",
            "/usr/local/lib/python3.6/dist-packages/sklearn/neural_network/multilayer_perceptron.py:564: ConvergenceWarning: Stochastic Optimizer: Maximum iterations (200) reached and the optimization hasn't converged yet.\n",
            "  % self.max_iter, ConvergenceWarning)\n",
            "/usr/local/lib/python3.6/dist-packages/sklearn/neural_network/multilayer_perceptron.py:564: ConvergenceWarning: Stochastic Optimizer: Maximum iterations (200) reached and the optimization hasn't converged yet.\n",
            "  % self.max_iter, ConvergenceWarning)\n",
            "/usr/local/lib/python3.6/dist-packages/sklearn/neural_network/multilayer_perceptron.py:564: ConvergenceWarning: Stochastic Optimizer: Maximum iterations (200) reached and the optimization hasn't converged yet.\n",
            "  % self.max_iter, ConvergenceWarning)\n",
            "/usr/local/lib/python3.6/dist-packages/sklearn/neural_network/multilayer_perceptron.py:564: ConvergenceWarning: Stochastic Optimizer: Maximum iterations (200) reached and the optimization hasn't converged yet.\n",
            "  % self.max_iter, ConvergenceWarning)\n",
            "/usr/local/lib/python3.6/dist-packages/sklearn/neural_network/multilayer_perceptron.py:564: ConvergenceWarning: Stochastic Optimizer: Maximum iterations (200) reached and the optimization hasn't converged yet.\n",
            "  % self.max_iter, ConvergenceWarning)\n",
            "/usr/local/lib/python3.6/dist-packages/sklearn/neural_network/multilayer_perceptron.py:564: ConvergenceWarning: Stochastic Optimizer: Maximum iterations (200) reached and the optimization hasn't converged yet.\n",
            "  % self.max_iter, ConvergenceWarning)\n",
            "/usr/local/lib/python3.6/dist-packages/sklearn/neural_network/multilayer_perceptron.py:564: ConvergenceWarning: Stochastic Optimizer: Maximum iterations (200) reached and the optimization hasn't converged yet.\n",
            "  % self.max_iter, ConvergenceWarning)\n"
          ],
          "name": "stderr"
        },
        {
          "output_type": "execute_result",
          "data": {
            "text/plain": [
              "GridSearchCV(cv=5, error_score='raise',\n",
              "       estimator=MLPClassifier(activation='relu', alpha=0.0001, batch_size='auto', beta_1=0.9,\n",
              "       beta_2=0.999, early_stopping=False, epsilon=1e-08,\n",
              "       hidden_layer_sizes=(100,), learning_rate='constant',\n",
              "       learning_rate_init=0.001, max_iter=200, momentum=0.9,\n",
              "       nesterovs_momentum=True, power_t=0.5, random_state=None,\n",
              "       shuffle=True, solver='adam', tol=0.0001, validation_fraction=0.1,\n",
              "       verbose=False, warm_start=False),\n",
              "       fit_params=None, iid=True, n_jobs=1,\n",
              "       param_grid={'activation': ['identity', 'logistic', 'tanh', 'relu'], 'hidden_layer_sizes': [(4, 8, 3)], 'solver': ['lbfgs', 'sgd', 'adam'], 'random_state': [21]},\n",
              "       pre_dispatch='2*n_jobs', refit=True, return_train_score='warn',\n",
              "       scoring=None, verbose=0)"
            ]
          },
          "metadata": {
            "tags": []
          },
          "execution_count": 56
        }
      ]
    },
    {
      "cell_type": "markdown",
      "metadata": {
        "id": "iEQC85XxszBO",
        "colab_type": "text"
      },
      "source": [
        "##### Antes"
      ]
    },
    {
      "cell_type": "markdown",
      "metadata": {
        "id": "JVGY6aLTkfHw",
        "colab_type": "text"
      },
      "source": [
        "clf_gsearch.best_params_\n",
        "\n",
        "**RESULTADO:**\n",
        "{'activation': 'relu',\n",
        " 'hidden_layer_sizes': (2, 3, 2),\n",
        " 'random_state': 21,\n",
        " 'solver': 'lbfgs'}"
      ]
    },
    {
      "cell_type": "markdown",
      "metadata": {
        "id": "U7Yr_Mbwkpcz",
        "colab_type": "text"
      },
      "source": [
        "print('Acurácia TREINO: ', (clf_gsearch.score(X_train, y_train)))\n",
        "\n",
        "print('Acurácia TESTE: ', (clf_gsearch.score(X_test, y_test)))\n",
        "\n",
        "**SEM NORMALIZAÇÃO**\n",
        "\n",
        "**Acurácia TREINO:**  0.978021978021978\n",
        "\n",
        "**Acurácia TESTE:**  0.973170731707317"
      ]
    },
    {
      "cell_type": "markdown",
      "metadata": {
        "id": "oVxFWYrGs2sT",
        "colab_type": "text"
      },
      "source": [
        "##### Depois"
      ]
    },
    {
      "cell_type": "code",
      "metadata": {
        "id": "ta97_JGfs89D",
        "colab_type": "code",
        "outputId": "256e7c9f-463b-4270-9279-bdbd838661a9",
        "colab": {
          "base_uri": "https://localhost:8080/",
          "height": 85
        }
      },
      "source": [
        "clf_gsearch.best_params_"
      ],
      "execution_count": 0,
      "outputs": [
        {
          "output_type": "execute_result",
          "data": {
            "text/plain": [
              "{'activation': 'relu',\n",
              " 'hidden_layer_sizes': (4, 8, 3),\n",
              " 'random_state': 21,\n",
              " 'solver': 'lbfgs'}"
            ]
          },
          "metadata": {
            "tags": []
          },
          "execution_count": 57
        }
      ]
    },
    {
      "cell_type": "code",
      "metadata": {
        "id": "__c-g0oQuXLx",
        "colab_type": "code",
        "outputId": "b9f41caa-135d-429b-f654-9b75572f99f4",
        "colab": {
          "base_uri": "https://localhost:8080/",
          "height": 275
        }
      },
      "source": [
        "clf_gsearch.grid_scores_"
      ],
      "execution_count": 0,
      "outputs": [
        {
          "output_type": "stream",
          "text": [
            "/usr/local/lib/python3.6/dist-packages/sklearn/model_selection/_search.py:762: DeprecationWarning: The grid_scores_ attribute was deprecated in version 0.18 in favor of the more elaborate cv_results_ attribute. The grid_scores_ attribute will not be available from 0.20\n",
            "  DeprecationWarning)\n"
          ],
          "name": "stderr"
        },
        {
          "output_type": "execute_result",
          "data": {
            "text/plain": [
              "[mean: 0.87179, std: 0.05187, params: {'activation': 'identity', 'hidden_layer_sizes': (4, 8, 3), 'random_state': 21, 'solver': 'lbfgs'},\n",
              " mean: 0.78022, std: 0.03111, params: {'activation': 'identity', 'hidden_layer_sizes': (4, 8, 3), 'random_state': 21, 'solver': 'sgd'},\n",
              " mean: 0.86447, std: 0.04905, params: {'activation': 'identity', 'hidden_layer_sizes': (4, 8, 3), 'random_state': 21, 'solver': 'adam'},\n",
              " mean: 0.86447, std: 0.04370, params: {'activation': 'logistic', 'hidden_layer_sizes': (4, 8, 3), 'random_state': 21, 'solver': 'lbfgs'},\n",
              " mean: 0.65934, std: 0.00594, params: {'activation': 'logistic', 'hidden_layer_sizes': (4, 8, 3), 'random_state': 21, 'solver': 'sgd'},\n",
              " mean: 0.65934, std: 0.00594, params: {'activation': 'logistic', 'hidden_layer_sizes': (4, 8, 3), 'random_state': 21, 'solver': 'adam'},\n",
              " mean: 0.84615, std: 0.05448, params: {'activation': 'tanh', 'hidden_layer_sizes': (4, 8, 3), 'random_state': 21, 'solver': 'lbfgs'},\n",
              " mean: 0.65934, std: 0.00594, params: {'activation': 'tanh', 'hidden_layer_sizes': (4, 8, 3), 'random_state': 21, 'solver': 'sgd'},\n",
              " mean: 0.86447, std: 0.04759, params: {'activation': 'tanh', 'hidden_layer_sizes': (4, 8, 3), 'random_state': 21, 'solver': 'adam'},\n",
              " mean: 0.87546, std: 0.05132, params: {'activation': 'relu', 'hidden_layer_sizes': (4, 8, 3), 'random_state': 21, 'solver': 'lbfgs'},\n",
              " mean: 0.65934, std: 0.00594, params: {'activation': 'relu', 'hidden_layer_sizes': (4, 8, 3), 'random_state': 21, 'solver': 'sgd'},\n",
              " mean: 0.85348, std: 0.04513, params: {'activation': 'relu', 'hidden_layer_sizes': (4, 8, 3), 'random_state': 21, 'solver': 'adam'}]"
            ]
          },
          "metadata": {
            "tags": []
          },
          "execution_count": 59
        }
      ]
    },
    {
      "cell_type": "code",
      "metadata": {
        "id": "6p5kZQ3jtBDS",
        "colab_type": "code",
        "outputId": "635f4bbb-b463-43e1-8be5-b1931b1fe4a0",
        "colab": {
          "base_uri": "https://localhost:8080/",
          "height": 34
        }
      },
      "source": [
        "clf_gsearch.best_score_"
      ],
      "execution_count": 0,
      "outputs": [
        {
          "output_type": "execute_result",
          "data": {
            "text/plain": [
              "0.8754578754578755"
            ]
          },
          "metadata": {
            "tags": []
          },
          "execution_count": 58
        }
      ]
    },
    {
      "cell_type": "markdown",
      "metadata": {
        "id": "H321rOLrTwo3",
        "colab_type": "text"
      },
      "source": [
        "### Resto"
      ]
    },
    {
      "cell_type": "code",
      "metadata": {
        "id": "c26YAbgmzxjf",
        "colab_type": "code",
        "outputId": "5352413c-20e1-4e44-f168-82aedd7aab05",
        "colab": {
          "base_uri": "https://localhost:8080/",
          "height": 119
        }
      },
      "source": [
        "score = []\n",
        "clf = RandomForestClassifier(n_estimators=200, max_features=3, max_depth=3, random_state=21)\n",
        "clf.fit(X_train, y_train)"
      ],
      "execution_count": 0,
      "outputs": [
        {
          "output_type": "execute_result",
          "data": {
            "text/plain": [
              "RandomForestClassifier(bootstrap=True, class_weight=None, criterion='gini',\n",
              "            max_depth=3, max_features=3, max_leaf_nodes=None,\n",
              "            min_impurity_decrease=0.0, min_impurity_split=None,\n",
              "            min_samples_leaf=1, min_samples_split=2,\n",
              "            min_weight_fraction_leaf=0.0, n_estimators=200, n_jobs=1,\n",
              "            oob_score=False, random_state=21, verbose=0, warm_start=False)"
            ]
          },
          "metadata": {
            "tags": []
          },
          "execution_count": 24
        }
      ]
    },
    {
      "cell_type": "code",
      "metadata": {
        "id": "b808rQ-R5wDV",
        "colab_type": "code",
        "outputId": "a9fd4110-ef51-476f-8d0c-bd71b1f5c2d5",
        "colab": {
          "base_uri": "https://localhost:8080/",
          "height": 34
        }
      },
      "source": [
        "clf.score(X_train, y_train)"
      ],
      "execution_count": 0,
      "outputs": [
        {
          "output_type": "execute_result",
          "data": {
            "text/plain": [
              "0.9743589743589743"
            ]
          },
          "metadata": {
            "tags": []
          },
          "execution_count": 25
        }
      ]
    },
    {
      "cell_type": "code",
      "metadata": {
        "colab_type": "code",
        "outputId": "8a499bee-2a72-42e3-8a3a-97d0764a5404",
        "id": "nHe4zuYKNXW1",
        "colab": {
          "base_uri": "https://localhost:8080/",
          "height": 34
        }
      },
      "source": [
        "clf.score(X_test, y_test)"
      ],
      "execution_count": 0,
      "outputs": [
        {
          "output_type": "execute_result",
          "data": {
            "text/plain": [
              "0.9682926829268292"
            ]
          },
          "metadata": {
            "tags": []
          },
          "execution_count": 26
        }
      ]
    }
  ]
}